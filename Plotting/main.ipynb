{
 "cells": [
  {
   "cell_type": "code",
   "execution_count": null,
   "metadata": {},
   "outputs": [],
   "source": [
    "# TODO: requirements.txt\n",
    "# pip install binreader\n",
    "# pip install matplotlib\n",
    "# pip install numpy\n",
    "# pip install nbconvert"
   ]
  },
  {
   "cell_type": "code",
   "execution_count": null,
   "metadata": {
    "ExecuteTime": {
     "end_time": "2025-03-13T12:50:16.485309Z",
     "start_time": "2025-03-13T12:50:15.409572Z"
    }
   },
   "outputs": [],
   "source": [
    "from core import Measure, MidiNote\n",
    "from recording import *\n",
    "from pupil_info import *\n",
    "import matplotlib.pyplot as plt\n",
    "import numpy as np"
   ]
  },
  {
   "cell_type": "code",
   "execution_count": null,
   "metadata": {
    "ExecuteTime": {
     "end_time": "2025-03-13T12:57:10.743170Z",
     "start_time": "2025-03-13T12:57:10.706136Z"
    }
   },
   "outputs": [],
   "source": [
    "from recording import *\n",
    "\n",
    "recording: Recording = Recording(\"data/asdf.notes\")\n",
    "\n",
    "human_fours: list[list[Measure]] = recording.human_fours()\n",
    "print([sum(len(measure.notes) for measure in four) for four in human_fours])"
   ]
  },
  {
   "cell_type": "code",
   "execution_count": null,
   "metadata": {
    "ExecuteTime": {
     "end_time": "2025-03-13T12:57:12.871262Z",
     "start_time": "2025-03-13T12:57:12.496291Z"
    }
   },
   "outputs": [],
   "source": [
    "\n",
    "fig, axs = plt.subplots(1, 2, sharey=True, tight_layout=True)\n",
    "\n",
    "dist1: list[int] = [note.note for four in recording.human_fours() for measure in four for note in measure.notes]\n",
    "dist2: list[int] = [note.note for four in recording.agent_fours() for measure in four for note in measure.notes]\n",
    "\n",
    "# We can set the number of bins with the *bins* keyword argument.\n",
    "axs[0].hist(dist1, bins=10)\n",
    "axs[1].hist(dist2, bins=10)\n",
    "\n",
    "plt.show()"
   ]
  },
  {
   "cell_type": "code",
   "execution_count": null,
   "metadata": {},
   "outputs": [],
   "source": [
    "all_pupil_info: list[PupilInfo] = get_all_pupil_info()\n",
    "responses: np.ndarray[int] = get_responses(all_pupil_info)"
   ]
  },
  {
   "cell_type": "code",
   "execution_count": null,
   "metadata": {},
   "outputs": [],
   "source": [
    "# GET THE AVERAGE ANSWER FOR EVERY QUESTION FOR EVERY SONG\n",
    "\n",
    "for question in range(NUM_QUESTIONS):\n",
    "    print(f\"Question {question}\")\n",
    "    for song in range(NUM_SONGS):\n",
    "        res = [responses[pupil][song][algorithm][question] for pupil in range(NUM_PUPILS) for algorithm in range(NUM_ALGORITHMS)]\n",
    "        res = list(filter(lambda x: x != 0, res))\n",
    "        print(f\"{SONG_NAMES[song]}: {np.average(res)}\")\n",
    "    print()"
   ]
  },
  {
   "cell_type": "code",
   "execution_count": null,
   "metadata": {},
   "outputs": [],
   "source": [
    "# GET THE AVERAGE ANSWER PER QUESTION OVER TIME\n",
    "\n",
    "for question in range(NUM_QUESTIONS):\n",
    "    print(f\"Question {question}\")\n",
    "    for session in range(NUM_SESSIONS):\n",
    "        res = [all_pupil_info[pupil].sessions[session].performances[performance].responses[question]\n",
    "               for pupil in range(NUM_PUPILS) for performance in range(NUM_PERFORMANCES)]\n",
    "        res = list(filter(lambda x: x != 0, res))\n",
    "        print(f\"Session {session}: {np.average(res)}\")"
   ]
  },
  {
   "cell_type": "code",
   "execution_count": null,
   "metadata": {},
   "outputs": [],
   "source": [
    "from dataclasses import replace\n",
    "from local_features import *\n",
    "\n",
    "def make_notes_absolute(measures: list[Measure]) -> list[Measure]:\n",
    "    return [Measure([replace(note, time=(note.time + i)) for note in measures[i].notes]) for i in range(len(measures))]\n",
    "\n",
    "fours = np.split(np.array(make_notes_absolute(recording.measures)), 4)\n",
    "\n",
    "metrics = [note_std(four) for four in fours]\n",
    "\n",
    "print(metrics)"
   ]
  }
 ],
 "metadata": {
  "kernelspec": {
   "display_name": "Python 3",
   "language": "python",
   "name": "python3"
  },
  "language_info": {
   "codemirror_mode": {
    "name": "ipython",
    "version": 3
   },
   "file_extension": ".py",
   "mimetype": "text/x-python",
   "name": "python",
   "nbconvert_exporter": "python",
   "pygments_lexer": "ipython3",
   "version": "3.12.9"
  },
  "polyglot_notebook": {
   "kernelInfo": {
    "defaultKernelName": "csharp",
    "items": [
     {
      "aliases": [],
      "name": "csharp"
     }
    ]
   }
  }
 },
 "nbformat": 4,
 "nbformat_minor": 2
}
