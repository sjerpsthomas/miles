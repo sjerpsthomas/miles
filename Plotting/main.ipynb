{
 "cells": [
  {
   "cell_type": "code",
   "execution_count": null,
   "metadata": {},
   "outputs": [],
   "source": [
    "# TODO: requirements.txt\n",
    "# pip install binreader\n",
    "# pip install matplotlib\n",
    "# pip install numpy\n",
    "# pip install nbconvert"
   ]
  },
  {
   "cell_type": "code",
   "execution_count": null,
   "metadata": {
    "ExecuteTime": {
     "end_time": "2025-03-27T16:31:42.762709Z",
     "start_time": "2025-03-27T16:31:39.930013Z"
    }
   },
   "outputs": [],
   "source": [
    "from typing import Callable\n",
    "\n",
    "# Import\n",
    "from pupil_info import *\n",
    "import matplotlib.pyplot as plt\n",
    "import numpy as np\n",
    "from local_features import *\n",
    "from recording import Measure, MidiNote, Recording\n",
    "from typing import Callable\n",
    "from matplotlib.axes import Axes\n",
    "from matplotlib.figure import Figure\n",
    "\n",
    "\n",
    "INFO: list[PupilInfo] = get_all_pupil_info()"
   ]
  },
  {
   "cell_type": "code",
   "execution_count": null,
   "metadata": {
    "ExecuteTime": {
     "end_time": "2025-03-21T15:09:31.533772Z",
     "start_time": "2025-03-21T15:09:30.589520Z"
    }
   },
   "outputs": [],
   "source": [
    "# Piano roll for a specified performance\n",
    "from recording import OutputName\n",
    "\n",
    "performance: PerformanceInfo = INFO[2].sessions[0].performances[2]\n",
    "print(SONG_NAMES[performance.song], \"with\", ALGORITHM_NAMES[performance.algorithm])\n",
    "recording = performance.recording\n",
    "midi_notes: list[MidiNote] = all_notes(recording.measures)\n",
    "\n",
    "\n",
    "fig: Figure\n",
    "ax: Axes\n",
    "fig, ax = plt.subplots(figsize=(20, 5))\n",
    "\n",
    "# Plot each note with the corresponding color\n",
    "for note in midi_notes:\n",
    "    color = \"red\" if note.output_name == OutputName.LOOPBACK else \"blue\"\n",
    "    ax.broken_barh([(note.time, note.length)], (note.note - 0.4, 0.8), facecolors=color)\n",
    "\n",
    "# Formatting\n",
    "ax.invert_yaxis()\n",
    "ax.set_xticks(np.arange(0, 64, 4))\n",
    "ax.set_yticks([])\n",
    "\n",
    "ax.grid(True)\n",
    "\n",
    "# Add legend\n",
    "legend_patches = [\n",
    "    plt.Line2D([0], [0], color=\"red\", lw=4, label=\"Loopback\"),\n",
    "    plt.Line2D([0], [0], color=\"blue\", lw=4, label=\"Algorithm\")\n",
    "]\n",
    "ax.legend(handles=legend_patches, loc=\"upper right\")\n",
    "\n",
    "plt.show()"
   ]
  },
  {
   "cell_type": "code",
   "execution_count": null,
   "metadata": {
    "ExecuteTime": {
     "end_time": "2025-03-27T14:59:53.702237Z",
     "start_time": "2025-03-27T14:59:53.560169Z"
    }
   },
   "outputs": [],
   "source": [
    "# Are some songs simply more fun than others?\n",
    "\n",
    "# Evaluate this specified question\n",
    "question_index: int = 3\n",
    "\n",
    "# Get all performances\n",
    "all_performances: list[PerformanceInfo] = [\n",
    "    INFO[pupil_index].sessions[session_index].performances[performance_index]\n",
    "    for pupil_index in range(NUM_PUPILS)\n",
    "    for session_index in range(NUM_SESSIONS)\n",
    "    for performance_index in range(NUM_PERFORMANCES)\n",
    "]\n",
    "\n",
    "# Keep track of all scores\n",
    "all_scores: list[list[int]] = []\n",
    "\n",
    "song_index: int\n",
    "for song_index in range(NUM_SONGS):\n",
    "    # Get all scores\n",
    "    scores: list[int] = [performance.responses[question_index] for performance in all_performances if performance.song == song_index]\n",
    "\n",
    "    # Append to plotting variable\n",
    "    all_scores.append(scores)\n",
    "\n",
    "fig: Figure\n",
    "ax: Axes\n",
    "fig, ax = plt.subplots()\n",
    "ax.violinplot(all_scores, showmeans=True)\n",
    "ax.set_title('Enjoyability of songs')\n",
    "\n",
    "ax.yaxis.grid(True)\n",
    "ax.set_ylim([0.8, 5.2])\n",
    "_ = ax.set_xticks([y + 1 for y in range(NUM_SONGS)], labels=list(SONG_IDS.keys()))\n",
    "ax.set_yticks(range(1, 6))\n",
    "\n",
    "print([np.average(s) for s in all_scores])\n",
    "\n",
    "plt.savefig('charts/song_enjoyability.png')"
   ]
  },
  {
   "cell_type": "code",
   "execution_count": null,
   "metadata": {
    "ExecuteTime": {
     "end_time": "2025-03-27T15:04:42.787825Z",
     "start_time": "2025-03-27T15:04:42.657518Z"
    }
   },
   "outputs": [],
   "source": [
    "# Are some algorithms simply more fun than others?\n",
    "\n",
    "# Evaluate this specified question and algorithm\n",
    "question_index: int = 3\n",
    "\n",
    "# Get all performances\n",
    "all_performances: list[PerformanceInfo] = [\n",
    "    INFO[pupil_index].sessions[session_index].performances[performance_index]\n",
    "    for pupil_index in range(NUM_PUPILS)\n",
    "    for session_index in range(NUM_SESSIONS)\n",
    "    for performance_index in range(NUM_PERFORMANCES)\n",
    "]\n",
    "\n",
    "all_scores: list[list[int]] = []\n",
    "\n",
    "algorithm_index: int\n",
    "for algorithm_index in range(NUM_ALGORITHMS):\n",
    "    # Get scores of performances of algorithm\n",
    "    scores: list[int] = [\n",
    "        performance.responses[question_index]\n",
    "        for performance in all_performances\n",
    "        if performance.algorithm == algorithm_index\n",
    "    ]\n",
    "\n",
    "    all_scores.append(scores)\n",
    "\n",
    "fig: Figure\n",
    "ax: Axes\n",
    "fig, ax = plt.subplots()\n",
    "ax.violinplot(all_scores, showmeans=True)\n",
    "ax.set_title('Enjoyability of algorithms')\n",
    "\n",
    "ax.yaxis.grid(True)\n",
    "ax.set_ylim([0.8, 5.2])\n",
    "_ = ax.set_xticks([y + 1 for y in range(NUM_ALGORITHMS)], labels=list(ALGORITHM_IDS.keys()))\n",
    "ax.set_yticks(range(1, 6))\n",
    "\n",
    "print([np.average(s) for s in all_scores])\n",
    "\n",
    "plt.savefig('charts/algorithm_enjoyability.png')"
   ]
  },
  {
   "cell_type": "code",
   "execution_count": null,
   "metadata": {
    "ExecuteTime": {
     "end_time": "2025-03-27T16:33:35.751213Z",
     "start_time": "2025-03-27T16:33:35.505962Z"
    }
   },
   "outputs": [],
   "source": [
    "# Get all performances\n",
    "all_performances: list[PerformanceInfo] = [\n",
    "    INFO[pupil_index].sessions[session_index].performances[performance_index]\n",
    "    for pupil_index in range(NUM_PUPILS)\n",
    "    for session_index in range(NUM_SESSIONS)\n",
    "    for performance_index in range(NUM_PERFORMANCES)\n",
    "]\n",
    "\n",
    "fig, axs = plt.subplots(2)\n",
    "\n",
    "colors = ['red', 'green', 'blue']\n",
    "\n",
    "fig.subplots_adjust(hspace=0.5)\n",
    "\n",
    "width = 0.25\n",
    "\n",
    "for algorithm_index in range(NUM_ALGORITHMS):\n",
    "    # Get scores of performances of algorithm\n",
    "    performances: list[PerformanceInfo] = [\n",
    "        performance\n",
    "        for performance in all_performances\n",
    "        if performance.algorithm == algorithm_index\n",
    "    ]\n",
    "\n",
    "    algorithm_respond_scores: list[int] = [sum([p.responses[0] == v for p in performances]) for v in range(1, 6)]\n",
    "    axs[0].title.set_text(\"\\\"I feel that the algorithm could respond well to me. \\\"\")\n",
    "    axs[0].bar(x=np.array(range(1, 6)) + width * algorithm_index,height=algorithm_respond_scores, width=width, color=colors[algorithm_index])\n",
    "    axs[0].set_yticks(range(0, 15, 5))\n",
    "\n",
    "    pupil_respond_scores: list[int] = [sum([p.responses[1] == v for p in performances]) for v in range(1, 6)]\n",
    "    axs[1].title.set_text(\"\\\"I feel that I could respond well to the algorithm.\\\"\")\n",
    "    axs[1].bar(x=np.array(range(1, 6)) + width * algorithm_index,height=pupil_respond_scores, width=width, color=colors[algorithm_index])\n",
    "    axs[1].set_yticks(range(0, 15, 5))\n",
    "\n",
    "plt.savefig('charts/response_scores.png')"
   ]
  },
  {
   "cell_type": "code",
   "execution_count": null,
   "metadata": {
    "ExecuteTime": {
     "end_time": "2025-03-21T15:11:18.732824Z",
     "start_time": "2025-03-21T15:11:18.723919Z"
    }
   },
   "outputs": [],
   "source": [
    "# Are pupils self-reporting feeling more musical over time?\n",
    "# Are pupils self-reporting feeling more response (from themselves; from the algorithm) over time?\n",
    "# Are pupils self-reporting feeling more enjoyment over time?\n",
    "\n",
    "# Evaluate this specified question\n",
    "# 0: I feel that the algorithm could respond well to me.\n",
    "# 1: I feel that I could respond well to the algorithm.\n",
    "# 2: I feel that the algorithm gives me inspiration.\n",
    "# 3: I enjoyed playing this song with the algorithm.\n",
    "question_index: int = 3\n",
    "\n",
    "session_index: int\n",
    "for session_index in range(NUM_SESSIONS):\n",
    "    # Get all performances of the session\n",
    "    performances: list[PerformanceInfo] = [\n",
    "        INFO[pupil_index].sessions[session_index].performances[performance_index]\n",
    "        for pupil_index in range(NUM_PUPILS)\n",
    "        for performance_index in range(NUM_PERFORMANCES)\n",
    "    ]\n",
    "\n",
    "    # Get the question scores\n",
    "    scores: list[int] = [\n",
    "        performance.responses[question_index]\n",
    "        for performance in performances\n",
    "    ]\n",
    "\n",
    "    # (TODO: remove) Filter all not-yet-filled-in answers\n",
    "    scores = [score for score in scores if score > 0]\n",
    "\n",
    "    print(session_index, \": \", np.average(scores), sep='')\n"
   ]
  },
  {
   "cell_type": "code",
   "execution_count": null,
   "metadata": {
    "ExecuteTime": {
     "end_time": "2025-03-27T15:52:59.341594Z",
     "start_time": "2025-03-27T15:52:58.398044Z"
    }
   },
   "outputs": [],
   "source": [
    "# For a specific algorithm, for a specific metric, how does it (and its distribution) evolve over the sessions?\n",
    "\n",
    "# Evaluate this specific metric\n",
    "metric: Callable[[list[Measure]], float]\n",
    "metric = melodic_arc_duration_avg\n",
    "\n",
    "# Evaluate this specific algorithm\n",
    "algorithm_index: int = 0\n",
    "\n",
    "all_metrics: list[list[float]] = []\n",
    "\n",
    "session_index: int\n",
    "for session_index in range(NUM_SESSIONS):\n",
    "    # Get performances\n",
    "    recordings: list[Recording] = [\n",
    "        INFO[pupil_index].sessions[session_index].performances[performance_index].recording\n",
    "        for pupil_index in range(NUM_PUPILS)\n",
    "        for performance_index in range(NUM_PERFORMANCES)\n",
    "    ]\n",
    "\n",
    "    # Get metrics\n",
    "    metrics: list[float] = [\n",
    "        metric(four)\n",
    "        for recording in recordings\n",
    "        for four in recording.fours\n",
    "    ]\n",
    "\n",
    "    all_metrics.append(metrics)\n",
    "\n",
    "fig: Figure\n",
    "ax: Axes\n",
    "fig, ax = plt.subplots()\n",
    "ax.violinplot(all_metrics, showmeans=True)\n",
    "ax.set_title('Violin plot')\n",
    "\n",
    "ax.yaxis.grid(True)\n",
    "\n",
    "ax.set_xticks([1, 2, 3])\n",
    "\n",
    "plt.show()"
   ]
  },
  {
   "cell_type": "code",
   "execution_count": null,
   "metadata": {
    "ExecuteTime": {
     "end_time": "2025-03-21T15:13:27.298961Z",
     "start_time": "2025-03-21T15:13:27.174990Z"
    }
   },
   "outputs": [],
   "source": [
    "# (out of personal interest) Is the fifth really more popular in solos of Summertime?\n",
    "\n",
    "from functools import partial\n",
    "\n",
    "all_metrics: list[list[float]] = []\n",
    "\n",
    "for song_index in range(NUM_SONGS):\n",
    "    fifth = SONG_PITCH_CLASSES[SONG_NAMES[song_index]][2]\n",
    "\n",
    "    # Get performances\n",
    "    performances = [\n",
    "        INFO[pupil_index].sessions[session_index].performances[performance_index]\n",
    "        for pupil_index in range(NUM_PUPILS)\n",
    "        for session_index in range(NUM_SESSIONS)\n",
    "        for performance_index in range(NUM_PERFORMANCES)\n",
    "    ]\n",
    "\n",
    "    # Filter by song\n",
    "    performances = [\n",
    "        performance\n",
    "        for performance in performances\n",
    "        if performance.song == song_index\n",
    "    ]\n",
    "\n",
    "    # Get all recordings\n",
    "    recordings: list[Recording] = [performance.recording for performance in performances]\n",
    "\n",
    "    # Get metrics\n",
    "    metrics: list[float] = [\n",
    "        note_share(four, pitch_class=fifth)\n",
    "        for recording in recordings\n",
    "        for four in recording.fours\n",
    "    ]\n",
    "\n",
    "    all_metrics.append(metrics)\n",
    "\n",
    "\n",
    "fig: Figure\n",
    "ax: Axes\n",
    "fig, ax = plt.subplots()\n",
    "ax.violinplot(all_metrics, showmeans=True)\n",
    "ax.set_title('Violin plot')\n",
    "\n",
    "ax.yaxis.grid(True)\n",
    "_ = ax.set_xticks([y + 1 for y in range(NUM_SONGS)], labels=list(SONG_IDS.keys()))\n",
    "\n",
    "plt.show()"
   ]
  },
  {
   "cell_type": "code",
   "execution_count": null,
   "metadata": {},
   "outputs": [],
   "source": [
    "# For a specific question, how does its self-reporting score relate to the expert evaluation?\n",
    "\n",
    "# TODO (of course)"
   ]
  }
 ],
 "metadata": {
  "kernelspec": {
   "display_name": "Python 3",
   "language": "python",
   "name": "python3"
  },
  "language_info": {
   "codemirror_mode": {
    "name": "ipython",
    "version": 3
   },
   "file_extension": ".py",
   "mimetype": "text/x-python",
   "name": "python",
   "nbconvert_exporter": "python",
   "pygments_lexer": "ipython3",
   "version": "3.13.2"
  },
  "polyglot_notebook": {
   "kernelInfo": {
    "defaultKernelName": "csharp",
    "items": [
     {
      "aliases": [],
      "name": "csharp"
     }
    ]
   }
  }
 },
 "nbformat": 4,
 "nbformat_minor": 2
}
