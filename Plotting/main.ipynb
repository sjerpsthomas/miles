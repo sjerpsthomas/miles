{
 "cells": [
  {
   "cell_type": "code",
   "execution_count": null,
   "metadata": {},
   "outputs": [],
   "source": [
    "# TODO: requirements.txt\n",
    "# pip install binreader\n",
    "# pip install matplotlib\n",
    "# pip install numpy\n",
    "# pip install nbconvert"
   ]
  },
  {
   "cell_type": "code",
   "execution_count": null,
   "metadata": {
    "ExecuteTime": {
     "end_time": "2025-03-21T10:30:11.302027Z",
     "start_time": "2025-03-21T10:30:06.815245Z"
    }
   },
   "outputs": [],
   "source": [
    "from typing import Callable\n",
    "\n",
    "# Import\n",
    "from pupil_info import *\n",
    "import matplotlib.pyplot as plt\n",
    "import numpy as np\n",
    "from local_features import *\n",
    "from recording import Measure, MidiNote, Recording\n",
    "from typing import Callable\n",
    "from matplotlib.axes import Axes\n",
    "from matplotlib.figure import Figure\n",
    "\n",
    "\n",
    "INFO: list[PupilInfo] = get_all_pupil_info()"
   ]
  },
  {
   "cell_type": "code",
   "execution_count": null,
   "metadata": {},
   "outputs": [],
   "source": [
    "# GET THE AVERAGE ANSWER FOR EVERY QUESTION FOR EVERY SONG\n",
    "\n",
    "for question in range(NUM_QUESTIONS):\n",
    "    print(f\"Question {question}\")\n",
    "    for song in range(NUM_SONGS):\n",
    "        res = [\n",
    "            INFO[pupil].sessions[session].performances[performance].responses[question]\n",
    "            for pupil in range(NUM_PUPILS)\n",
    "            for session in range(NUM_SESSIONS)\n",
    "            for performance in range(NUM_PERFORMANCES)\n",
    "            if INFO[pupil].sessions[session].performances[performance].song == song\n",
    "        ]\n",
    "        res = list(filter(lambda x: x != 0, res))\n",
    "        print(f\"{SONG_NAMES[song]}: {np.average(res)}\")\n",
    "    print()"
   ]
  },
  {
   "cell_type": "code",
   "execution_count": null,
   "metadata": {},
   "outputs": [],
   "source": [
    "# GET THE AVERAGE ANSWER PER QUESTION OVER TIME\n",
    "\n",
    "for question in range(NUM_QUESTIONS):\n",
    "    print(f\"Question {question}\")\n",
    "    for session in range(NUM_SESSIONS):\n",
    "        res = [INFO[pupil].sessions[session].performances[performance].self_report[question]\n",
    "               for pupil in range(NUM_PUPILS) for performance in range(NUM_PERFORMANCES)]\n",
    "        res = list(filter(lambda x: x != 0, res))\n",
    "        print(f\"Session {session}: {np.average(res)}\")"
   ]
  },
  {
   "cell_type": "code",
   "execution_count": null,
   "metadata": {},
   "outputs": [],
   "source": [
    "from dataclasses import replace\n",
    "\n",
    "\n",
    "fig, ax = plt.subplots()\n",
    "\n",
    "colors = [\n",
    "    'b', 'g', 'r', 'c', 'm'\n",
    "]\n",
    "\n",
    "def make_notes_absolute(measures: list[Measure]) -> list[Measure]:\n",
    "    return [Measure([replace(note, time=(note.time + i)) for note in measures[i].notes]) for i in range(len(measures))]\n",
    "\n",
    "for session in range(2):\n",
    "    for pupil in range(NUM_PUPILS):\n",
    "        if (pupil, session) == (2, 1): continue\n",
    "\n",
    "        p = 0\n",
    "\n",
    "        recording: Recording = Recording(f\"recordings/{session + 1}/{pupil + 1}/{p}.notes\")\n",
    "\n",
    "        song = INFO[pupil].sessions[session].performances[p].song\n",
    "        pitch_classes = SONG_PITCH_CLASSES[SONG_NAMES[song]]\n",
    "\n",
    "        # recording: Recording = all_pupil_info[pupil].sessions[session].performances[p].recording\n",
    "\n",
    "\n",
    "\n",
    "        metrics = [note_share(four, pitch_classes[2]) for four in fours]\n",
    "\n",
    "        ax.plot(metrics, color=colors[song])\n",
    "\n",
    "plt.show()"
   ]
  },
  {
   "cell_type": "code",
   "execution_count": null,
   "metadata": {
    "ExecuteTime": {
     "end_time": "2025-03-18T22:51:00.535401Z",
     "start_time": "2025-03-18T22:51:00.318754Z"
    }
   },
   "outputs": [],
   "source": [
    "\n",
    "# Are some songs simply more fun than others?\n",
    "\n",
    "# Evaluate this specified question\n",
    "question_index: int = 3\n",
    "\n",
    "# Get all performances\n",
    "all_performances: list[PerformanceInfo] = [\n",
    "    INFO[pupil_index].sessions[session_index].performances[performance_index]\n",
    "    for pupil_index in range(NUM_PUPILS)\n",
    "    for session_index in range(NUM_SESSIONS)\n",
    "    for performance_index in range(NUM_PERFORMANCES)\n",
    "]\n",
    "\n",
    "# Keep track of all scores\n",
    "all_scores: list[list[int]] = []\n",
    "\n",
    "song_index: int\n",
    "for song_index in range(NUM_SONGS):\n",
    "    # Get all scores\n",
    "    scores: list[int] = [performance.responses[question_index] for performance in all_performances if performance.song == song_index]\n",
    "\n",
    "    # (TODO: remove) Filter all not-yet-filled-in answers\n",
    "    scores = [score for score in scores if score > 0]\n",
    "\n",
    "    # Append to plotting variable\n",
    "    all_scores.append(scores)\n",
    "\n",
    "    # print(SONG_NAMES[song], \": \", np.average(scores), sep='')\n",
    "\n",
    "fig: Figure\n",
    "ax: Axes\n",
    "fig, ax = plt.subplots()\n",
    "ax.violinplot(all_scores, showmeans=True)\n",
    "ax.set_title('Violin plot')\n",
    "\n",
    "ax.yaxis.grid(True)\n",
    "ax.set_ylim([1, 5.2])\n",
    "_ = ax.set_xticks([y + 1 for y in range(NUM_SONGS)], labels=list(SONG_IDS.keys()))\n"
   ]
  },
  {
   "cell_type": "code",
   "execution_count": null,
   "metadata": {
    "ExecuteTime": {
     "end_time": "2025-03-18T22:56:45.815940Z",
     "start_time": "2025-03-18T22:56:45.805851Z"
    }
   },
   "outputs": [],
   "source": [
    "# Are pupils self-reporting feeling more musical over time?\n",
    "# Are pupils self-reporting feeling more response (from themselves; from the algorithm) over time?\n",
    "# Are pupils self-reporting feeling more enjoyment over time?\n",
    "\n",
    "# Evaluate this specified question\n",
    "question_index: int = 3\n",
    "\n",
    "session_index: int\n",
    "for session_index in range(NUM_SESSIONS):\n",
    "    # Get all performances of the session\n",
    "    performances: list[PerformanceInfo] = [\n",
    "        INFO[pupil_index].sessions[session_index].performances[performance_index]\n",
    "        for pupil_index in range(NUM_PUPILS)\n",
    "        for performance_index in range(NUM_PERFORMANCES)\n",
    "    ]\n",
    "\n",
    "    # Get the question scores\n",
    "    scores: list[int] = [\n",
    "        performance.responses[question_index]\n",
    "        for performance in performances\n",
    "    ]\n",
    "\n",
    "    # (TODO: remove) Filter all not-yet-filled-in answers\n",
    "    scores = [score for score in scores if score > 0]\n",
    "\n",
    "    print(session_index, \": \", np.average(scores), sep='')\n"
   ]
  },
  {
   "cell_type": "code",
   "execution_count": null,
   "metadata": {
    "ExecuteTime": {
     "end_time": "2025-03-19T11:57:02.428911Z",
     "start_time": "2025-03-19T11:57:02.421562Z"
    }
   },
   "outputs": [],
   "source": [
    "# Are some algorithms simply more fun than others?\n",
    "\n",
    "# Evaluate this specified question and algorithm\n",
    "question_index: int = 3\n",
    "\n",
    "# Get all performances\n",
    "all_performances: list[PerformanceInfo] = [\n",
    "    INFO[pupil_index].sessions[session_index].performances[performance_index]\n",
    "    for pupil_index in range(NUM_PUPILS)\n",
    "    for session_index in range(NUM_SESSIONS)\n",
    "    for performance_index in range(NUM_PERFORMANCES)\n",
    "]\n",
    "\n",
    "algorithm_index: int\n",
    "for algorithm_index in range(NUM_ALGORITHMS):\n",
    "    # Get scores of performances of algorithm\n",
    "    scores: list[int] = [\n",
    "        performance.responses[question_index]\n",
    "        for performance in all_performances\n",
    "        if performance.algorithm == algorithm_index\n",
    "    ]\n",
    "\n",
    "    # (TODO: remove) Filter all not-yet-filled-in answers\n",
    "    scores = [score for score in scores if score > 0]\n",
    "\n",
    "    print(ALGORITHM_NAMES[algorithm_index], \": \", np.average(scores), sep='')\n"
   ]
  },
  {
   "cell_type": "code",
   "execution_count": null,
   "metadata": {
    "ExecuteTime": {
     "end_time": "2025-03-19T14:12:32.612343Z",
     "start_time": "2025-03-19T14:12:31.699339Z"
    }
   },
   "outputs": [],
   "source": [
    "# For a specific algorithm, for a specific metric, how does it (and its distribution) evolve over the sessions for a specific algorithm?\n",
    "\n",
    "# Evaluate this specific metric\n",
    "metric: Callable[[list[Measure]], float]\n",
    "metric = melodic_arc_height_avg\n",
    "\n",
    "# Evaluate this specific algorithm\n",
    "algorithm_index: int = 0\n",
    "\n",
    "all_metrics: list[list[float]] = []\n",
    "\n",
    "session_index: int\n",
    "for session_index in range(NUM_SESSIONS):\n",
    "    # Get performances\n",
    "    performances: list[PerformanceInfo] = [\n",
    "        INFO[pupil_index].sessions[session_index].performances[performance_index]\n",
    "        for pupil_index in range(NUM_PUPILS)\n",
    "        for performance_index in range(NUM_PERFORMANCES)\n",
    "    ]\n",
    "\n",
    "    # Get metrics\n",
    "    metrics: list[float] = [\n",
    "        metric(four)\n",
    "        for performance in performances\n",
    "        for four in performance.recording.fours\n",
    "    ]\n",
    "\n",
    "    all_metrics.append(metrics)\n",
    "\n",
    "fig: Figure\n",
    "ax: Axes\n",
    "fig, ax = plt.subplots()\n",
    "ax.violinplot(all_metrics, showmeans=True)\n",
    "ax.set_title('Violin plot')\n",
    "\n",
    "ax.yaxis.grid(True)\n",
    "\n",
    "plt.show()"
   ]
  },
  {
   "cell_type": "code",
   "execution_count": null,
   "metadata": {
    "ExecuteTime": {
     "end_time": "2025-03-21T10:30:27.854451Z",
     "start_time": "2025-03-21T10:30:27.676933Z"
    }
   },
   "outputs": [],
   "source": [
    "# (out of personal interest) Is the fifth really more popular in solos of Summertime?\n",
    "\n",
    "from functools import partial\n",
    "\n",
    "all_metrics: list[list[float]] = []\n",
    "\n",
    "for song_index in range(NUM_SONGS):\n",
    "    fifth = SONG_PITCH_CLASSES[SONG_NAMES[song_index]][2]\n",
    "\n",
    "    # Get performances\n",
    "    performances = [\n",
    "        INFO[pupil_index].sessions[session_index].performances[performance_index]\n",
    "        for pupil_index in range(NUM_PUPILS)\n",
    "        for session_index in range(NUM_SESSIONS)\n",
    "        for performance_index in range(NUM_PERFORMANCES)\n",
    "    ]\n",
    "\n",
    "    # Filter by song\n",
    "    performances = [\n",
    "        performance\n",
    "        for performance in performances\n",
    "        if performance.song == song_index\n",
    "    ]\n",
    "\n",
    "    # Get metrics\n",
    "    metrics: list[float] = [\n",
    "        note_share(four, pitch_class=fifth)\n",
    "        for performance in performances\n",
    "        for four in performance.recording.fours\n",
    "    ]\n",
    "\n",
    "    all_metrics.append(metrics)\n",
    "\n",
    "\n",
    "fig: Figure\n",
    "ax: Axes\n",
    "fig, ax = plt.subplots()\n",
    "ax.violinplot(all_metrics, showmeans=True)\n",
    "ax.set_title('Violin plot')\n",
    "\n",
    "ax.yaxis.grid(True)\n",
    "\n",
    "plt.show()"
   ]
  },
  {
   "cell_type": "code",
   "execution_count": null,
   "metadata": {},
   "outputs": [],
   "source": [
    "# For a specific question, how does its self-reporting score relate to the expert evaluation?\n",
    "\n"
   ]
  },
  {
   "cell_type": "code",
   "execution_count": null,
   "metadata": {
    "ExecuteTime": {
     "end_time": "2025-03-19T14:02:25.835209Z",
     "start_time": "2025-03-19T14:02:24.938149Z"
    }
   },
   "outputs": [],
   "source": [
    "# Piano roll for a specified performance\n",
    "from recording import OutputName\n",
    "\n",
    "performance: PerformanceInfo = INFO[2].sessions[0].performances[2]\n",
    "print(SONG_NAMES[performance.song], \"with\", ALGORITHM_NAMES[performance.algorithm])\n",
    "recording = performance.recording\n",
    "midi_notes: list[MidiNote] = all_notes(recording.measures)\n",
    "\n",
    "\n",
    "fig: Figure\n",
    "ax: Axes\n",
    "fig, ax = plt.subplots(figsize=(20, 5))\n",
    "\n",
    "# Plot each note with the corresponding color\n",
    "for note in midi_notes:\n",
    "    color = \"red\" if note.output_name == OutputName.LOOPBACK else \"blue\"\n",
    "    ax.broken_barh([(note.time, note.length)], (note.note - 0.4, 0.8), facecolors=color)\n",
    "\n",
    "# Formatting\n",
    "ax.invert_yaxis()\n",
    "ax.set_xticks(np.arange(0, 64, 4))\n",
    "ax.set_yticks([])\n",
    "\n",
    "ax.grid(True)\n",
    "\n",
    "# Add legend\n",
    "legend_patches = [\n",
    "    plt.Line2D([0], [0], color=\"red\", lw=4, label=\"Loopback\"),\n",
    "    plt.Line2D([0], [0], color=\"blue\", lw=4, label=\"Algorithm\")\n",
    "]\n",
    "ax.legend(handles=legend_patches, loc=\"upper right\")\n",
    "\n",
    "plt.show()"
   ]
  }
 ],
 "metadata": {
  "kernelspec": {
   "display_name": "Python 3",
   "language": "python",
   "name": "python3"
  },
  "language_info": {
   "codemirror_mode": {
    "name": "ipython",
    "version": 3
   },
   "file_extension": ".py",
   "mimetype": "text/x-python",
   "name": "python",
   "nbconvert_exporter": "python",
   "pygments_lexer": "ipython3",
   "version": "3.12.9"
  },
  "polyglot_notebook": {
   "kernelInfo": {
    "defaultKernelName": "csharp",
    "items": [
     {
      "aliases": [],
      "name": "csharp"
     }
    ]
   }
  }
 },
 "nbformat": 4,
 "nbformat_minor": 2
}
