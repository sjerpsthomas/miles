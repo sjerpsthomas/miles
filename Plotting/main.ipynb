{
 "cells": [
  {
   "cell_type": "code",
   "execution_count": null,
   "metadata": {},
   "outputs": [],
   "source": [
    "# TODO: requirements.txt\n",
    "# pip install binreader\n",
    "# pip install matplotlib\n",
    "# pip install numpy\n",
    "# pip install nbconvert"
   ]
  },
  {
   "cell_type": "code",
   "execution_count": null,
   "metadata": {},
   "outputs": [],
   "source": [
    "from process import *\n",
    "from questions import *\n",
    "import matplotlib.pyplot as plt\n",
    "import numpy as np"
   ]
  },
  {
   "cell_type": "code",
   "execution_count": null,
   "metadata": {},
   "outputs": [],
   "source": [
    "from process import *\n",
    "\n",
    "performance: Performance = Performance(load_notes(\"data/asdf.notes\"))\n",
    "\n",
    "human_fours = performance.human_fours\n",
    "print([sum(len(measure.notes) for measure in four) for four in human_fours])"
   ]
  },
  {
   "cell_type": "code",
   "execution_count": null,
   "metadata": {},
   "outputs": [],
   "source": [
    "\n",
    "fig, axs = plt.subplots(1, 2, sharey=True, tight_layout=True)\n",
    "\n",
    "dist1 = [note.note for four in performance.human_fours for measure in four for note in measure.notes]\n",
    "dist2 = [note.note for four in performance.agent_fours for measure in four for note in measure.notes]\n",
    "\n",
    "# We can set the number of bins with the *bins* keyword argument.\n",
    "axs[0].hist(dist1, bins=10)\n",
    "axs[1].hist(dist2, bins=10)\n",
    "\n",
    "plt.show()"
   ]
  },
  {
   "cell_type": "code",
   "execution_count": null,
   "metadata": {},
   "outputs": [],
   "source": [
    "all_pupil_info: list[PupilInfo] = get_all_pupil_info()\n",
    "responses: np.ndarray[int] = get_responses(all_pupil_info)"
   ]
  },
  {
   "cell_type": "code",
   "execution_count": null,
   "metadata": {},
   "outputs": [],
   "source": [
    "# GET THE AVERAGE ANSWER FOR EVERY QUESTION FOR EVERY SONG\n",
    "\n",
    "for question in range(NUM_QUESTIONS):\n",
    "    print(f\"Question {question}\")\n",
    "    for song in range(NUM_SONGS):\n",
    "        res = [responses[pupil][song][algorithm][question] for pupil in range(NUM_PUPILS) for algorithm in range(NUM_ALGORITHMS)]\n",
    "        res = list(filter(lambda x: x != 0, res))\n",
    "        print(f\"{SONG_NAMES[song]}: {np.average(res)}\")\n",
    "    print()"
   ]
  },
  {
   "cell_type": "code",
   "execution_count": null,
   "metadata": {},
   "outputs": [],
   "source": [
    "# GET THE AVERAGE ANSWER PER QUESTION OVER TIME\n",
    "\n",
    "for question in range(NUM_QUESTIONS):\n",
    "    print(f\"Question {question}\")\n",
    "    for session in range(NUM_SESSIONS):\n",
    "        res = [all_pupil_info[pupil].sessions[session].performances[performance].responses[question]\n",
    "               for pupil in range(NUM_PUPILS) for performance in range(NUM_PERFORMANCES)]\n",
    "        res = list(filter(lambda x: x != 0, res))\n",
    "        print(f\"Session {session}: {np.average(res)}\")"
   ]
  }
 ],
 "metadata": {
  "kernelspec": {
   "display_name": "Python 3",
   "language": "python",
   "name": "python3"
  },
  "language_info": {
   "codemirror_mode": {
    "name": "ipython",
    "version": 3
   },
   "file_extension": ".py",
   "mimetype": "text/x-python",
   "name": "python",
   "nbconvert_exporter": "python",
   "pygments_lexer": "ipython3",
   "version": "3.12.9"
  },
  "polyglot_notebook": {
   "kernelInfo": {
    "defaultKernelName": "csharp",
    "items": [
     {
      "aliases": [],
      "name": "csharp"
     }
    ]
   }
  }
 },
 "nbformat": 4,
 "nbformat_minor": 2
}
