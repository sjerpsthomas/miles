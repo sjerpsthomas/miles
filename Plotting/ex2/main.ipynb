{
 "cells": [
  {
   "cell_type": "code",
   "execution_count": null,
   "id": "53a4d405",
   "metadata": {},
   "outputs": [],
   "source": [
    "# Import\n",
    "import os\n",
    "import matplotlib.pyplot as plt\n",
    "import numpy as np\n",
    "from typing import Callable\n",
    "from matplotlib.axes import Axes\n",
    "from matplotlib.figure import Figure\n",
    "import matplotlib.font_manager as font_manager\n",
    "import matplotlib.patches as mpatches\n",
    "from info import *\n",
    "\n",
    "# Import local_features and util (hack)\n",
    "import sys\n",
    "import os\n",
    "sys.path.append(os.path.abspath(\"..\"))\n",
    "from local_features import *\n",
    "from util import *\n",
    "\n",
    "\n",
    "INFO = Info()\n"
   ]
  },
  {
   "cell_type": "code",
   "execution_count": null,
   "id": "6a8d3ad6",
   "metadata": {},
   "outputs": [],
   "source": [
    "# Piano roll for a specified performance\n",
    "from recording import OutputName\n",
    "\n",
    "participant_id: int = 0\n",
    "performance_id: int = 2\n",
    "\n",
    "performance: Performance = INFO.data(participant_id, performance_id)\n",
    "print(ALGORITHM_LONG_NAMES[performance.algorithm])\n",
    "recording: Recording = performance.recording\n",
    "midi_notes: list[MidiNote] = all_notes(recording.measures)\n",
    "\n",
    "fig: Figure\n",
    "ax: Axes\n",
    "fig, ax = plt.subplots(figsize=(20, 5))\n",
    "\n",
    "# Plot each note with the corresponding color\n",
    "for note in midi_notes:\n",
    "    color = \"red\" if note.output_name == OutputName.LOOPBACK else \"blue\"\n",
    "    ax.broken_barh([(note.time, note.length)], (note.note - 0.4, 0.8), facecolors=color)\n",
    "\n",
    "# Formatting\n",
    "ax.invert_yaxis()\n",
    "ax.set_xticks(np.arange(0, 48+4, 4))\n",
    "ax.set_yticks([])\n",
    "\n",
    "ax.grid(True)\n",
    "\n",
    "# Add legend\n",
    "legend_patches = [\n",
    "    plt.Line2D([0], [0], color=\"red\", lw=4, label=\"Pupil\"),\n",
    "    plt.Line2D([0], [0], color=\"blue\", lw=4, label=\"Algorithm\")\n",
    "]\n",
    "ax.legend(handles=legend_patches, loc=\"upper right\")\n",
    "\n",
    "plt.show()"
   ]
  },
  {
   "cell_type": "code",
   "execution_count": null,
   "id": "6ca0b177",
   "metadata": {},
   "outputs": [],
   "source": [
    "# Ratings per algorithm (side-to-side bars)\n",
    "\n",
    "fig, axs = plt.subplots(NUM_QUESTIONS, figsize=(8, 10))\n",
    "\n",
    "colors = ['#B45C1F', '#DE8B52', '#1FB42A', \"#52DE5C\"]\n",
    "\n",
    "questions = [\n",
    "    \"I feel that the algorithm could respond well to me\",\n",
    "    \"I feel that I could respond well to the algorithm\",\n",
    "    \"I feel that the algortihm gives me inspiration\",\n",
    "    \"I enjoyed playing this song with the algorithm\",\n",
    "]\n",
    "\n",
    "fig.subplots_adjust(hspace=0.5)\n",
    "\n",
    "width = 0.166\n",
    "\n",
    "for algorithm_index in range(NUM_ALGORITHMS):\n",
    "    # Get scores of performances of algorithm\n",
    "    performances = [\n",
    "        INFO.info[id]\n",
    "        for id in INFO.info\n",
    "        if INFO.info[id].algorithm == algorithm_index \n",
    "    ]\n",
    "\n",
    "    print(performances[0].scores)\n",
    "\n",
    "    for q in range(NUM_QUESTIONS):\n",
    "        q_scores: list[int] = [sum([p.scores[p.participant_id][q] == v for p in performances]) for v in range(1, 6)]\n",
    "        axs[q].title.set_text(f'\"{questions[q]}\"')\n",
    "        axs[q].bar(x=np.array(range(1, 6)) + width * algorithm_index - width*1.5,height=q_scores, width=width, color=colors[algorithm_index])\n",
    "        axs[q].set_yticks(range(0, 10, 5))\n",
    "\n",
    "legend_patches = [\n",
    "    mpatches.Patch(color=colors[algorithm_index], label=ALGORITHM_SHORT_NAMES[algorithm_index]) for algorithm_index in range(NUM_ALGORITHMS)\n",
    "]\n",
    "fig.legend(handles=legend_patches, loc=\"outside upper right\")\n",
    "\n",
    "plt.savefig('charts/response_scores.png')"
   ]
  },
  {
   "cell_type": "code",
   "execution_count": null,
   "id": "e7151d0e",
   "metadata": {},
   "outputs": [],
   "source": [
    "# Metrics over fours (dot plot)\n"
   ]
  },
  {
   "cell_type": "code",
   "execution_count": null,
   "id": "438e1803",
   "metadata": {},
   "outputs": [],
   "source": [
    "# Edit distances per algorithm\n"
   ]
  },
  {
   "cell_type": "code",
   "execution_count": null,
   "id": "490c23c1",
   "metadata": {},
   "outputs": [],
   "source": [
    "# Self / peer correlation\n"
   ]
  }
 ],
 "metadata": {
  "kernelspec": {
   "display_name": "Python 3",
   "language": "python",
   "name": "python3"
  },
  "language_info": {
   "codemirror_mode": {
    "name": "ipython",
    "version": 3
   },
   "file_extension": ".py",
   "mimetype": "text/x-python",
   "name": "python",
   "nbconvert_exporter": "python",
   "pygments_lexer": "ipython3",
   "version": "3.12.10"
  }
 },
 "nbformat": 4,
 "nbformat_minor": 5
}
